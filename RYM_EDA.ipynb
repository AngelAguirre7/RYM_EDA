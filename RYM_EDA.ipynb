{
 "cells": [
  {
   "cell_type": "markdown",
   "id": "8390e3ab-cc24-477e-9890-1b314a746dc0",
   "metadata": {},
   "source": [
    "# Exploratory Data Analysis of the Top 1000 Highest-Ranked Albums on Rate Your Music"
   ]
  },
  {
   "cell_type": "markdown",
   "id": "e4a77efc-708b-4b8d-acf5-85a15946079b",
   "metadata": {
    "jp-MarkdownHeadingCollapsed": true
   },
   "source": [
    "## Introduction"
   ]
  },
  {
   "cell_type": "markdown",
   "id": "c9a0c973-486e-4b78-96fd-12da458f34e3",
   "metadata": {},
   "source": [
    "### Objectives\n",
    "- Answer questions about the preferences of the Rate Your Music user base.\n",
    "- Visualize statistics on the top 1000 highest-ranked albums on Rate Your Music."
   ]
  },
  {
   "cell_type": "markdown",
   "id": "35d0822d-3a4b-4aed-bf24-a093b3e7caff",
   "metadata": {},
   "source": [
    "### Problem Statement\n",
    "\n",
    "Rate Your Music does not currently have a functional API, which limits direct access to its data. However, my curiosity about the music preferences of its user base led me to find an alternative approach. Using Selenium, SeleniumBase, and BeautifulSoup, I scraped data on the top 1,000 albums from Rate Your Music on March 9 2025, along with their relevant variables. I then compiled this data into a CSV file, which is what i will use in this Jupyter Notebook."
   ]
  },
  {
   "cell_type": "markdown",
   "id": "88a87dae-91e4-44bb-9a68-6171b6f1f5fa",
   "metadata": {
    "jp-MarkdownHeadingCollapsed": true
   },
   "source": [
    "## Data Overview"
   ]
  },
  {
   "cell_type": "code",
   "execution_count": 8,
   "id": "b233f8e6-316f-45b2-a7c7-850b11a2039e",
   "metadata": {},
   "outputs": [],
   "source": [
    "import numpy as np\n",
    "import pandas as pd\n",
    "import matplotlib.pyplot as plt\n",
    "import nbconvert\n",
    "\n",
    "from ast import literal_eval"
   ]
  },
  {
   "cell_type": "code",
   "execution_count": 9,
   "id": "58ab3336-3ff6-4dbe-b896-b7e2094d8f47",
   "metadata": {},
   "outputs": [
    {
     "data": {
      "text/html": [
       "<div>\n",
       "<style scoped>\n",
       "    .dataframe tbody tr th:only-of-type {\n",
       "        vertical-align: middle;\n",
       "    }\n",
       "\n",
       "    .dataframe tbody tr th {\n",
       "        vertical-align: top;\n",
       "    }\n",
       "\n",
       "    .dataframe thead th {\n",
       "        text-align: right;\n",
       "    }\n",
       "</style>\n",
       "<table border=\"1\" class=\"dataframe\">\n",
       "  <thead>\n",
       "    <tr style=\"text-align: right;\">\n",
       "      <th></th>\n",
       "      <th>Unnamed: 0</th>\n",
       "      <th>Album_Title</th>\n",
       "      <th>Artist_Name</th>\n",
       "      <th>Year of Release</th>\n",
       "      <th>Average_Rating</th>\n",
       "      <th>Number_Of_Ratings</th>\n",
       "      <th>Genres</th>\n",
       "      <th>Descriptors</th>\n",
       "      <th>Language</th>\n",
       "    </tr>\n",
       "  </thead>\n",
       "  <tbody>\n",
       "    <tr>\n",
       "      <th>0</th>\n",
       "      <td>1</td>\n",
       "      <td>To Pimp a Butterfly</td>\n",
       "      <td>Kendrick Lamar</td>\n",
       "      <td>2015</td>\n",
       "      <td>4.39</td>\n",
       "      <td>91,747</td>\n",
       "      <td>['Conscious Hip Hop', ' Jazz Rap', ' Political...</td>\n",
       "      <td>['political', '  conscious', '  concept album'...</td>\n",
       "      <td>English</td>\n",
       "    </tr>\n",
       "    <tr>\n",
       "      <th>1</th>\n",
       "      <td>2</td>\n",
       "      <td>OK Computer</td>\n",
       "      <td>Radiohead</td>\n",
       "      <td>1997</td>\n",
       "      <td>4.30</td>\n",
       "      <td>117,558</td>\n",
       "      <td>['Alternative Rock', ' Art Rock', ' Post-Britp...</td>\n",
       "      <td>['melancholic', '  anxious', '  alienation', '...</td>\n",
       "      <td>English</td>\n",
       "    </tr>\n",
       "    <tr>\n",
       "      <th>2</th>\n",
       "      <td>3</td>\n",
       "      <td>In Rainbows</td>\n",
       "      <td>Radiohead</td>\n",
       "      <td>2007</td>\n",
       "      <td>4.33</td>\n",
       "      <td>89,039</td>\n",
       "      <td>['Art Rock', ' Alternative Rock', ' Electronic...</td>\n",
       "      <td>['lush', '  male vocalist', '  melancholic', '...</td>\n",
       "      <td>English</td>\n",
       "    </tr>\n",
       "    <tr>\n",
       "      <th>3</th>\n",
       "      <td>4</td>\n",
       "      <td>Wish You Were Here</td>\n",
       "      <td>Pink Floyd</td>\n",
       "      <td>1975</td>\n",
       "      <td>4.35</td>\n",
       "      <td>80,322</td>\n",
       "      <td>['Progressive Rock', ' Art Rock', ' Space Rock...</td>\n",
       "      <td>['melancholic', '  atmospheric', '  progressiv...</td>\n",
       "      <td>English</td>\n",
       "    </tr>\n",
       "    <tr>\n",
       "      <th>4</th>\n",
       "      <td>5</td>\n",
       "      <td>good kid, m.A.A.d city</td>\n",
       "      <td>Kendrick Lamar</td>\n",
       "      <td>2012</td>\n",
       "      <td>4.32</td>\n",
       "      <td>77,039</td>\n",
       "      <td>['Conscious Hip Hop', ' Hardcore Hip Hop', ' P...</td>\n",
       "      <td>['urban', '  concept album', '  crime', '  con...</td>\n",
       "      <td>English</td>\n",
       "    </tr>\n",
       "  </tbody>\n",
       "</table>\n",
       "</div>"
      ],
      "text/plain": [
       "   Unnamed: 0             Album_Title     Artist_Name  Year of Release  \\\n",
       "0           1     To Pimp a Butterfly  Kendrick Lamar             2015   \n",
       "1           2             OK Computer       Radiohead             1997   \n",
       "2           3             In Rainbows       Radiohead             2007   \n",
       "3           4      Wish You Were Here      Pink Floyd             1975   \n",
       "4           5  good kid, m.A.A.d city  Kendrick Lamar             2012   \n",
       "\n",
       "   Average_Rating Number_Of_Ratings  \\\n",
       "0            4.39            91,747   \n",
       "1            4.30           117,558   \n",
       "2            4.33            89,039   \n",
       "3            4.35            80,322   \n",
       "4            4.32            77,039   \n",
       "\n",
       "                                              Genres  \\\n",
       "0  ['Conscious Hip Hop', ' Jazz Rap', ' Political...   \n",
       "1  ['Alternative Rock', ' Art Rock', ' Post-Britp...   \n",
       "2  ['Art Rock', ' Alternative Rock', ' Electronic...   \n",
       "3  ['Progressive Rock', ' Art Rock', ' Space Rock...   \n",
       "4  ['Conscious Hip Hop', ' Hardcore Hip Hop', ' P...   \n",
       "\n",
       "                                         Descriptors Language  \n",
       "0  ['political', '  conscious', '  concept album'...  English  \n",
       "1  ['melancholic', '  anxious', '  alienation', '...  English  \n",
       "2  ['lush', '  male vocalist', '  melancholic', '...  English  \n",
       "3  ['melancholic', '  atmospheric', '  progressiv...  English  \n",
       "4  ['urban', '  concept album', '  crime', '  con...  English  "
      ]
     },
     "execution_count": 9,
     "metadata": {},
     "output_type": "execute_result"
    }
   ],
   "source": [
    "rym_dataframe = pd.read_csv('Top_1000_RYM_Albums_03102025.csv')\n",
    "rym_dataframe.head()"
   ]
  },
  {
   "cell_type": "markdown",
   "id": "b0ba6c2d-b984-4cbc-94e1-f4708a84c3f8",
   "metadata": {},
   "source": [
    "I Would like to make \"Unamed: 0\" the index as i believe it is more approriate as it represents rank"
   ]
  },
  {
   "cell_type": "code",
   "execution_count": 11,
   "id": "f83ef9ae-b3e4-4d25-9e95-d8b43b5c4382",
   "metadata": {},
   "outputs": [
    {
     "data": {
      "text/html": [
       "<div>\n",
       "<style scoped>\n",
       "    .dataframe tbody tr th:only-of-type {\n",
       "        vertical-align: middle;\n",
       "    }\n",
       "\n",
       "    .dataframe tbody tr th {\n",
       "        vertical-align: top;\n",
       "    }\n",
       "\n",
       "    .dataframe thead th {\n",
       "        text-align: right;\n",
       "    }\n",
       "</style>\n",
       "<table border=\"1\" class=\"dataframe\">\n",
       "  <thead>\n",
       "    <tr style=\"text-align: right;\">\n",
       "      <th></th>\n",
       "      <th>Album_Title</th>\n",
       "      <th>Artist_Name</th>\n",
       "      <th>Year of Release</th>\n",
       "      <th>Average_Rating</th>\n",
       "      <th>Number_Of_Ratings</th>\n",
       "      <th>Genres</th>\n",
       "      <th>Descriptors</th>\n",
       "      <th>Language</th>\n",
       "    </tr>\n",
       "    <tr>\n",
       "      <th>Rank</th>\n",
       "      <th></th>\n",
       "      <th></th>\n",
       "      <th></th>\n",
       "      <th></th>\n",
       "      <th></th>\n",
       "      <th></th>\n",
       "      <th></th>\n",
       "      <th></th>\n",
       "    </tr>\n",
       "  </thead>\n",
       "  <tbody>\n",
       "    <tr>\n",
       "      <th>1</th>\n",
       "      <td>To Pimp a Butterfly</td>\n",
       "      <td>Kendrick Lamar</td>\n",
       "      <td>2015</td>\n",
       "      <td>4.39</td>\n",
       "      <td>91,747</td>\n",
       "      <td>['Conscious Hip Hop', ' Jazz Rap', ' Political...</td>\n",
       "      <td>['political', '  conscious', '  concept album'...</td>\n",
       "      <td>English</td>\n",
       "    </tr>\n",
       "    <tr>\n",
       "      <th>2</th>\n",
       "      <td>OK Computer</td>\n",
       "      <td>Radiohead</td>\n",
       "      <td>1997</td>\n",
       "      <td>4.30</td>\n",
       "      <td>117,558</td>\n",
       "      <td>['Alternative Rock', ' Art Rock', ' Post-Britp...</td>\n",
       "      <td>['melancholic', '  anxious', '  alienation', '...</td>\n",
       "      <td>English</td>\n",
       "    </tr>\n",
       "    <tr>\n",
       "      <th>3</th>\n",
       "      <td>In Rainbows</td>\n",
       "      <td>Radiohead</td>\n",
       "      <td>2007</td>\n",
       "      <td>4.33</td>\n",
       "      <td>89,039</td>\n",
       "      <td>['Art Rock', ' Alternative Rock', ' Electronic...</td>\n",
       "      <td>['lush', '  male vocalist', '  melancholic', '...</td>\n",
       "      <td>English</td>\n",
       "    </tr>\n",
       "    <tr>\n",
       "      <th>4</th>\n",
       "      <td>Wish You Were Here</td>\n",
       "      <td>Pink Floyd</td>\n",
       "      <td>1975</td>\n",
       "      <td>4.35</td>\n",
       "      <td>80,322</td>\n",
       "      <td>['Progressive Rock', ' Art Rock', ' Space Rock...</td>\n",
       "      <td>['melancholic', '  atmospheric', '  progressiv...</td>\n",
       "      <td>English</td>\n",
       "    </tr>\n",
       "    <tr>\n",
       "      <th>5</th>\n",
       "      <td>good kid, m.A.A.d city</td>\n",
       "      <td>Kendrick Lamar</td>\n",
       "      <td>2012</td>\n",
       "      <td>4.32</td>\n",
       "      <td>77,039</td>\n",
       "      <td>['Conscious Hip Hop', ' Hardcore Hip Hop', ' P...</td>\n",
       "      <td>['urban', '  concept album', '  crime', '  con...</td>\n",
       "      <td>English</td>\n",
       "    </tr>\n",
       "  </tbody>\n",
       "</table>\n",
       "</div>"
      ],
      "text/plain": [
       "                 Album_Title     Artist_Name  Year of Release  Average_Rating  \\\n",
       "Rank                                                                            \n",
       "1        To Pimp a Butterfly  Kendrick Lamar             2015            4.39   \n",
       "2                OK Computer       Radiohead             1997            4.30   \n",
       "3                In Rainbows       Radiohead             2007            4.33   \n",
       "4         Wish You Were Here      Pink Floyd             1975            4.35   \n",
       "5     good kid, m.A.A.d city  Kendrick Lamar             2012            4.32   \n",
       "\n",
       "     Number_Of_Ratings                                             Genres  \\\n",
       "Rank                                                                        \n",
       "1               91,747  ['Conscious Hip Hop', ' Jazz Rap', ' Political...   \n",
       "2              117,558  ['Alternative Rock', ' Art Rock', ' Post-Britp...   \n",
       "3               89,039  ['Art Rock', ' Alternative Rock', ' Electronic...   \n",
       "4               80,322  ['Progressive Rock', ' Art Rock', ' Space Rock...   \n",
       "5               77,039  ['Conscious Hip Hop', ' Hardcore Hip Hop', ' P...   \n",
       "\n",
       "                                            Descriptors Language  \n",
       "Rank                                                              \n",
       "1     ['political', '  conscious', '  concept album'...  English  \n",
       "2     ['melancholic', '  anxious', '  alienation', '...  English  \n",
       "3     ['lush', '  male vocalist', '  melancholic', '...  English  \n",
       "4     ['melancholic', '  atmospheric', '  progressiv...  English  \n",
       "5     ['urban', '  concept album', '  crime', '  con...  English  "
      ]
     },
     "execution_count": 11,
     "metadata": {},
     "output_type": "execute_result"
    }
   ],
   "source": [
    "new_index = rym_dataframe['Unnamed: 0']\n",
    "rym_dataframe = rym_dataframe.drop(columns='Unnamed: 0')\n",
    "rym_dataframe = rym_dataframe.set_axis(new_index,axis='index')\n",
    "rym_dataframe = rym_dataframe.rename_axis('Rank',axis='index')\n",
    "rym_dataframe.head()"
   ]
  },
  {
   "cell_type": "code",
   "execution_count": 12,
   "id": "17125bd5-59ab-4845-87e9-3dbd4a445088",
   "metadata": {},
   "outputs": [
    {
     "data": {
      "text/plain": [
       "(1000, 8)"
      ]
     },
     "execution_count": 12,
     "metadata": {},
     "output_type": "execute_result"
    }
   ],
   "source": [
    "rym_dataframe.shape"
   ]
  },
  {
   "cell_type": "code",
   "execution_count": 13,
   "id": "79ca8210-73c8-4916-ad81-a5c85709260e",
   "metadata": {},
   "outputs": [
    {
     "data": {
      "text/plain": [
       "Album_Title          0\n",
       "Artist_Name          0\n",
       "Year of Release      0\n",
       "Average_Rating       0\n",
       "Number_Of_Ratings    0\n",
       "Genres               0\n",
       "Descriptors          0\n",
       "Language             0\n",
       "dtype: int64"
      ]
     },
     "execution_count": 13,
     "metadata": {},
     "output_type": "execute_result"
    }
   ],
   "source": [
    "rym_dataframe.isnull().sum()"
   ]
  },
  {
   "cell_type": "markdown",
   "id": "55b5a8ec-64c1-4cb7-b2b0-40d87fe4aaeb",
   "metadata": {
    "jp-MarkdownHeadingCollapsed": true
   },
   "source": [
    "## Data Cleaning and Wranging"
   ]
  },
  {
   "cell_type": "markdown",
   "id": "042a779b-7ab6-4c39-9248-529108ed5e99",
   "metadata": {},
   "source": [
    "There is some preprocessing that needs to be done before i can use this dataframe for vizualization"
   ]
  },
  {
   "cell_type": "markdown",
   "id": "1ccc73c2-c913-4a54-8107-b32cdb2282d3",
   "metadata": {},
   "source": [
    "### Change Year of Release type to integer"
   ]
  },
  {
   "cell_type": "code",
   "execution_count": 17,
   "id": "6ce7bdd4-30b5-4f44-af38-7a0d175d8c83",
   "metadata": {},
   "outputs": [],
   "source": [
    "rym_dataframe['Year of Release'] = rym_dataframe['Year of Release'].astype('int32',errors='ignore')"
   ]
  },
  {
   "cell_type": "markdown",
   "id": "da3afa43-f18a-4996-8add-8580c64b4b86",
   "metadata": {},
   "source": [
    "### Convert list data into the correct type"
   ]
  },
  {
   "cell_type": "code",
   "execution_count": 19,
   "id": "d97e1d04-538c-4e88-8460-29e546e9a324",
   "metadata": {},
   "outputs": [],
   "source": [
    "rym_dataframe['Genres'] = rym_dataframe['Genres'].apply(literal_eval)\n",
    "rym_dataframe['Descriptors'] = rym_dataframe['Descriptors'].apply(literal_eval)"
   ]
  },
  {
   "cell_type": "markdown",
   "id": "43d53695-4fce-4858-80d3-64355cacedd8",
   "metadata": {},
   "source": [
    "### Remove Whitespace for list data"
   ]
  },
  {
   "cell_type": "code",
   "execution_count": 21,
   "id": "ca650f12-42ac-4006-a3d6-f3fea1793f64",
   "metadata": {},
   "outputs": [],
   "source": [
    "def strip_list(entry_list):\n",
    "    return [x.strip() for x in entry_list]"
   ]
  },
  {
   "cell_type": "code",
   "execution_count": 22,
   "id": "be0c8982-6cb6-4137-9c61-0b599ea1463f",
   "metadata": {},
   "outputs": [],
   "source": [
    "rym_dataframe['Genres'] = rym_dataframe['Genres'].apply(strip_list)\n",
    "rym_dataframe['Descriptors'] = rym_dataframe['Descriptors'].apply(strip_list)"
   ]
  },
  {
   "cell_type": "markdown",
   "id": "e4ab713f-f092-4c9f-aae8-7785203f2280",
   "metadata": {},
   "source": [
    "## Exploratory Data Analysis "
   ]
  },
  {
   "cell_type": "markdown",
   "id": "84f63108-fb8e-460e-a80f-f6bf16e102e4",
   "metadata": {},
   "source": [
    "We will use the scrapped data to answer questions about the top 1000 albums ranked by Rate Your Music"
   ]
  },
  {
   "cell_type": "markdown",
   "id": "55233c89-d96c-4831-a299-c19427db9094",
   "metadata": {},
   "source": [
    "### What are the most occuring sub-genres"
   ]
  },
  {
   "cell_type": "code",
   "execution_count": 26,
   "id": "42b99bef-e6c5-4dfb-a799-06a249365a9f",
   "metadata": {},
   "outputs": [
    {
     "data": {
      "text/plain": [
       "Genres\n",
       "Singer-Songwriter       103\n",
       "Art Rock                 98\n",
       "Ambient                  75\n",
       "Post-Rock                71\n",
       "Art Pop                  69\n",
       "Progressive Rock         65\n",
       "Neo-Psychedelia          63\n",
       "Experimental Rock        59\n",
       "Psychedelic Rock         58\n",
       "Conscious Hip Hop        54\n",
       "Indie Rock               52\n",
       "Post-Punk                52\n",
       "Post-Hardcore            51\n",
       "Jazz Rap                 50\n",
       "Noise Rock               50\n",
       "Experimental Hip Hop     49\n",
       "Folk Rock                48\n",
       "Boom Bap                 47\n",
       "Dream Pop                47\n",
       "Psychedelic Pop          45\n",
       "Hard Rock                45\n",
       "Jazz-Rock                45\n",
       "Alternative Rock         45\n",
       "Blues Rock               41\n",
       "Drone                    40\n",
       "Hardcore Hip Hop         38\n",
       "Pop Rock                 37\n",
       "Avant-Garde Jazz         36\n",
       "Jazz Fusion              35\n",
       "Progressive Pop          35\n",
       "Name: Album_Title, dtype: int64"
      ]
     },
     "execution_count": 26,
     "metadata": {},
     "output_type": "execute_result"
    }
   ],
   "source": [
    "exploded_dataframe_for_genres = rym_dataframe.explode(\"Genres\")\n",
    "genre_count = exploded_dataframe_for_genres.groupby(\"Genres\")[\"Album_Title\"].count()\n",
    "sorted_genre_count = genre_count.sort_values(ascending=False)\n",
    "sorted_genre_count[:30]"
   ]
  },
  {
   "cell_type": "code",
   "execution_count": 27,
   "id": "979814bc-5c2c-494f-8dbe-050b2e59d553",
   "metadata": {},
   "outputs": [
    {
     "data": {
      "text/plain": [
       "<AxesSubplot:xlabel='Sub-Genres'>"
      ]
     },
     "execution_count": 27,
     "metadata": {},
     "output_type": "execute_result"
    },
    {
     "data": {
      "image/png": "[encoded data removed]",
      "text/plain": [
       "<Figure size 1296x504 with 1 Axes>"
      ]
     },
     "metadata": {
      "needs_background": "light"
     },
     "output_type": "display_data"
    }
   ],
   "source": [
    "fig, ax = plt.subplots(figsize=(18, 7))\n",
    "sorted_genre_count[:30].plot(ax=ax,kind=\"bar\",grid=True,xlabel='Sub-Genres')"
   ]
  },
  {
   "cell_type": "markdown",
   "id": "0411d6c0-08aa-4495-b7f8-3c9b49e8ebe6",
   "metadata": {},
   "source": [
    "The most popular sub-genre is **Singer-Songwriter** \n",
    "\n",
    "According to Rate Your Music, the Singer-Songwriter genre is defined by “confessional or political lyrics, typically with sparse acoustic accompaniment (acoustic guitar or piano), and an arrangement that relies more on the strength of the song and the performance than on production techniques or musical style.” Additionally, the term “Singer-Songwriter” originated in the late 60s to early 70s, but its roots trace back to the 15th and 16th centuries. Given the genre’s long history and its prominence during a popular musical era, it’s no surprise that Singer-Songwriter is one of the most frequent genres in the top 1000 list. You can learn more here: \n",
    "\n",
    "https://rateyourmusic.com/genre/singer-songwriter/\n",
    "\n",
    "A close second is **Art Rock**\n",
    "\n",
    "According to Rate Your Music, Art Rock is defined as music that “attempts to expand the bounds of rock within conventional structures, often using outside influences or experimentation for conceptual or thematic purposes.” This subgenre has a long history, originating in the 1950s and 1960s in British art schools, where artists were exposed to academic disciplines and a more conceptual approach to music theory. Given that Rate Your Music users tend to have a strong affinity for rock music, it makes sense that Art Rock is one of the most frequently occurring genres in the top 1000 list. Artists from every decade have embraced its sound, further cementing its influence. You can learn more here:\n",
    "\n",
    "https://rateyourmusic.com/genre/art-rock/\n",
    "\n",
    "After the top two subgenres, there’s a noticeable drop, as shown in the bar plot. Beyond the top two, it’s clear that the user base’s preferences lean toward various forms of rock music, with some appearances of pop, hip-hop, and jazz music as well."
   ]
  },
  {
   "cell_type": "markdown",
   "id": "899f766c-accb-4621-bb4d-bd2acc349aa8",
   "metadata": {},
   "source": [
    "### Who are the most occuring artist"
   ]
  },
  {
   "cell_type": "code",
   "execution_count": 30,
   "id": "4fd43631-c63f-4ec2-97bb-78b763c871bd",
   "metadata": {},
   "outputs": [
    {
     "data": {
      "text/plain": [
       "Artist_Name\n",
       "Berliner Philharmoniker    9\n",
       "John Coltrane              9\n",
       "David Bowie                8\n",
       "Wiener Philharmoniker      8\n",
       "Swans                      7\n",
       "Miles Davis                7\n",
       "Neil Young                 7\n",
       "Led Zeppelin               6\n",
       "Pink Floyd                 6\n",
       "The Beatles                6\n",
       "Elliott Smith              6\n",
       "Kanye West                 6\n",
       "Bob Dylan                  6\n",
       "Radiohead                  6\n",
       "Black Sabbath              6\n",
       "Name: Artist_Name, dtype: int64"
      ]
     },
     "execution_count": 30,
     "metadata": {},
     "output_type": "execute_result"
    }
   ],
   "source": [
    "artist_count = rym_dataframe.groupby(\"Artist_Name\")['Artist_Name'].count()\n",
    "sorted_artist_count = artist_count.sort_values(ascending=False)\n",
    "sorted_artist_count[:15]"
   ]
  },
  {
   "cell_type": "markdown",
   "id": "7f7a18dc-c16f-4b4f-ab59-5e49765458c7",
   "metadata": {},
   "source": [
    "Most of these artist have pretty large discographies, for example John Coltrane and Miles Davis have released over 50 albums each. As expected most of these artist are from varius strains of rock music, with a few jazz, classical, singer-songwriter artist. "
   ]
  },
  {
   "cell_type": "markdown",
   "id": "339fb03f-e9af-4cc2-b798-b6cb494f9a3c",
   "metadata": {},
   "source": [
    "### What are the most popular years"
   ]
  },
  {
   "cell_type": "code",
   "execution_count": 33,
   "id": "b8adc051-17ed-4f8c-b03b-69124af34869",
   "metadata": {},
   "outputs": [
    {
     "data": {
      "text/plain": [
       "Year of Release\n",
       "1971    34\n",
       "1994    32\n",
       "1996    29\n",
       "1999    28\n",
       "1972    27\n",
       "1998    24\n",
       "2000    24\n",
       "1970    24\n",
       "1969    23\n",
       "1997    23\n",
       "1995    23\n",
       "1992    22\n",
       "1977    22\n",
       "1973    22\n",
       "1975    21\n",
       "2002    20\n",
       "1967    20\n",
       "2001    19\n",
       "2003    18\n",
       "2005    17\n",
       "Name: Album_Title, dtype: int64"
      ]
     },
     "execution_count": 33,
     "metadata": {},
     "output_type": "execute_result"
    }
   ],
   "source": [
    "year_count = rym_dataframe.loc[rym_dataframe['Year of Release'] != 0].groupby('Year of Release')['Album_Title'].count()\n",
    "year_count.sort_values(ascending=False)[:20]"
   ]
  },
  {
   "cell_type": "code",
   "execution_count": 34,
   "id": "573038ef-3fa4-480e-aeaf-31966b1b152d",
   "metadata": {},
   "outputs": [
    {
     "data": {
      "text/plain": [
       "<AxesSubplot:xlabel='Year of Release'>"
      ]
     },
     "execution_count": 34,
     "metadata": {},
     "output_type": "execute_result"
    },
    {
     "data": {
      "image/png": "[encoded data removed]",
      "text/plain": [
       "<Figure size 1296x504 with 1 Axes>"
      ]
     },
     "metadata": {
      "needs_background": "light"
     },
     "output_type": "display_data"
    }
   ],
   "source": [
    "fig2, ax2 = plt.subplots(figsize=(18, 7))\n",
    "year_count.plot(ax=ax2,kind='bar')"
   ]
  },
  {
   "cell_type": "markdown",
   "id": "b2c2230b-29f3-478e-97cb-d893443b813f",
   "metadata": {},
   "source": [
    "The two most popular time periods seem to be the late 1960s to 1970s and the 1990s to mid-2000s. There is a noticeable dip in the 1980s, and in the second half of the 2000s, a downward trend begins. The least occurring time period is 1946 to 1964."
   ]
  },
  {
   "cell_type": "markdown",
   "id": "6aa1010c-6770-4460-aa32-99145e7bd2f8",
   "metadata": {
    "jp-MarkdownHeadingCollapsed": true
   },
   "source": [
    "### What are the most popular languages?"
   ]
  },
  {
   "cell_type": "code",
   "execution_count": 37,
   "id": "088485a3-80d3-4d0c-8c40-b5300ac7e953",
   "metadata": {},
   "outputs": [
    {
     "data": {
      "text/plain": [
       "Language\n",
       "English                       707\n",
       "None                          155\n",
       "Spanish                        28\n",
       "Japanese                       19\n",
       "Portuguese                     14\n",
       "Japanese, English              10\n",
       "German                          9\n",
       "English, French                 8\n",
       "English, Spanish                7\n",
       "English, Japanese               6\n",
       "Portuguese, English             4\n",
       "Latin                           3\n",
       "English, Yoruba                 3\n",
       "Polish                          2\n",
       "English, Portuguese             2\n",
       "English, German                 2\n",
       "Norwegian, English              1\n",
       "Portuguese, Spanish             1\n",
       "Norwegian, Danish               1\n",
       "Russian                         1\n",
       "Norwegian                       1\n",
       "Spanish, French                 1\n",
       "Bulgarian                       1\n",
       "Icelandic                       1\n",
       "Korean, English                 1\n",
       "Korean                          1\n",
       "Japanese, Chinese, English      1\n",
       "German, English                 1\n",
       "French                          1\n",
       "English, Norwegian              1\n",
       "English, Latin                  1\n",
       "English, Japanese, French       1\n",
       "English, Icelandic              1\n",
       "English, Haitian                1\n",
       "English, French, Latin          1\n",
       "English, French, German         1\n",
       "Turkish                         1\n",
       "Name: Album_Title, dtype: int64"
      ]
     },
     "execution_count": 37,
     "metadata": {},
     "output_type": "execute_result"
    }
   ],
   "source": [
    "langauge_count = rym_dataframe.groupby(\"Language\")['Album_Title'].count()\n",
    "sorted_langauge_count = langauge_count.sort_values(ascending=False)\n",
    "sorted_langauge_count"
   ]
  },
  {
   "cell_type": "markdown",
   "id": "fc616036-ce15-4359-9ece-70566b462c39",
   "metadata": {},
   "source": [
    "There are some languages that are grouped together because some albums contain multiple languages.\n",
    "\n",
    "I would like to have seperate languages. Im going to take the value of these grouped languages and add them into the indivudual respective language."
   ]
  },
  {
   "cell_type": "code",
   "execution_count": 39,
   "id": "2198f144-55b2-4580-9eef-93ba15c68f94",
   "metadata": {},
   "outputs": [],
   "source": [
    "for x,y in sorted_langauge_count.iteritems():\n",
    "    if \",\" in x:\n",
    "        for language in x.split(\",\"):\n",
    "            try:\n",
    "                sorted_langauge_count[language.strip()] += y\n",
    "            except KeyError:\n",
    "                sorted_langauge_count[language.strip()] = y\n",
    "        sorted_langauge_count = sorted_langauge_count.drop(labels=x)"
   ]
  },
  {
   "cell_type": "code",
   "execution_count": 40,
   "id": "8c5a3caf-2fc7-40fd-afe4-d16891d6f237",
   "metadata": {},
   "outputs": [
    {
     "data": {
      "text/plain": [
       "Language\n",
       "English       760\n",
       "None          155\n",
       "Spanish        37\n",
       "Japanese       37\n",
       "Portuguese     21\n",
       "German         13\n",
       "French         13\n",
       "Latin           5\n",
       "Norwegian       4\n",
       "Yoruba          3\n",
       "Icelandic       2\n",
       "Korean          2\n",
       "Polish          2\n",
       "Russian         1\n",
       "Bulgarian       1\n",
       "Turkish         1\n",
       "Danish          1\n",
       "Chinese         1\n",
       "Haitian         1\n",
       "Name: Album_Title, dtype: int64"
      ]
     },
     "execution_count": 40,
     "metadata": {},
     "output_type": "execute_result"
    }
   ],
   "source": [
    "sorted_langauge_count.sort_values(ascending=False)"
   ]
  },
  {
   "cell_type": "markdown",
   "id": "09c2c00a-b34c-4b06-a3e9-3f19b27db774",
   "metadata": {},
   "source": [
    "It's quite clear that in an english speaking music discussion platform the highest ranked albums would be in english, so for the vizualization i would like to exclude english and focus on non english albums."
   ]
  },
  {
   "cell_type": "code",
   "execution_count": 42,
   "id": "0a9e27d4-14ed-476c-ba28-1cc550e81ef2",
   "metadata": {},
   "outputs": [],
   "source": [
    "non_english_languages = sorted_langauge_count.drop(labels=['English','None'])"
   ]
  },
  {
   "cell_type": "code",
   "execution_count": 43,
   "id": "4ef62cce-d9f1-40da-8ac2-1584f7360b8b",
   "metadata": {},
   "outputs": [
    {
     "data": {
      "text/plain": [
       "<AxesSubplot:xlabel='Language'>"
      ]
     },
     "execution_count": 43,
     "metadata": {},
     "output_type": "execute_result"
    },
    {
     "data": {
      "image/png": "[encoded data removed]",
      "text/plain": [
       "<Figure size 1296x504 with 1 Axes>"
      ]
     },
     "metadata": {
      "needs_background": "light"
     },
     "output_type": "display_data"
    }
   ],
   "source": [
    "fig3, ax3 = plt.subplots(figsize=(18, 7))\n",
    "non_english_languages.sort_values(ascending=False).plot(ax=ax3,kind='bar')"
   ]
  },
  {
   "cell_type": "markdown",
   "id": "79cbe17d-68b4-4bab-89ed-7bddb1f4e300",
   "metadata": {},
   "source": [
    "Spanish and Japanese lead in non-English language representation in the top 1,000. In my view, this reflects, at least in part, the cultural influence of Spanish and Latin cultures (including some Portuguese albums) as well as Japanese culture in the West. I see Rate Your Music's demographic as western and this chart in a minor way can show western english speaking attitudes and preferences towards non-english music."
   ]
  },
  {
   "cell_type": "markdown",
   "id": "aaed027d-afd7-4728-90b3-8c621d9e66c5",
   "metadata": {},
   "source": [
    "### What are the most occuring non-vocal sub-genres"
   ]
  },
  {
   "cell_type": "code",
   "execution_count": 46,
   "id": "846ee565-7163-473a-88bf-2e07aca82427",
   "metadata": {},
   "outputs": [
    {
     "data": {
      "text/plain": [
       "Genres\n",
       "Post-Bop                  30\n",
       "Ambient                   27\n",
       "Avant-Garde Jazz          26\n",
       "Hard Bop                  22\n",
       "Romanticism               22\n",
       "Video Game Music          17\n",
       "Modern Classical          16\n",
       "Modal Jazz                16\n",
       "Drone                     15\n",
       "Cool Jazz                 14\n",
       "Jazz Fusion               13\n",
       "Spiritual Jazz            12\n",
       "Orchestral Music          11\n",
       "Cinematic Classical       11\n",
       "Free Jazz                 11\n",
       "Chamber Music             10\n",
       "Symphony                  10\n",
       "Dark Ambient              10\n",
       "Minimalism                10\n",
       "Progressive Electronic     9\n",
       "Space Ambient              7\n",
       "Baroque Music              7\n",
       "Post-Rock                  7\n",
       "Ballet                     6\n",
       "Experimental Big Band      6\n",
       "Third Stream               6\n",
       "Sequencer & Tracker        6\n",
       "Noise                      6\n",
       "Jazz-Funk                  6\n",
       "Classical Period           5\n",
       "Name: Album_Title, dtype: int64"
      ]
     },
     "execution_count": 46,
     "metadata": {},
     "output_type": "execute_result"
    }
   ],
   "source": [
    "exploded_dataframe_for_non_vocal_genres = rym_dataframe.loc[rym_dataframe['Language'] == 'None'].explode(\"Genres\")\n",
    "non_vocal_genre_count = exploded_dataframe_for_non_vocal_genres.groupby(\"Genres\")[\"Album_Title\"].count()\n",
    "sorted_non_voal_genre_count = non_vocal_genre_count.sort_values(ascending=False)\n",
    "sorted_non_voal_genre_count[:30]"
   ]
  },
  {
   "cell_type": "code",
   "execution_count": 47,
   "id": "9230738f-12cd-4bb8-b8bf-bae835599a4d",
   "metadata": {},
   "outputs": [
    {
     "data": {
      "text/plain": [
       "<AxesSubplot:xlabel='Sub-Genres'>"
      ]
     },
     "execution_count": 47,
     "metadata": {},
     "output_type": "execute_result"
    },
    {
     "data": {
      "image/png": "[encoded data removed]",
      "text/plain": [
       "<Figure size 1296x504 with 1 Axes>"
      ]
     },
     "metadata": {
      "needs_background": "light"
     },
     "output_type": "display_data"
    }
   ],
   "source": [
    "fig4, ax4 = plt.subplots(figsize=(18, 7))\n",
    "sorted_non_voal_genre_count[:30].plot(ax=ax4,kind=\"bar\",grid=True,xlabel='Sub-Genres')"
   ]
  },
  {
   "cell_type": "markdown",
   "id": "6e6776ad-6273-477b-8bc3-2c2673ce6047",
   "metadata": {
    "jp-MarkdownHeadingCollapsed": true
   },
   "source": [
    "### What are the most occuring non-vocal artist"
   ]
  },
  {
   "cell_type": "code",
   "execution_count": 49,
   "id": "677b6df4-fe49-4d44-899c-7f4c1f6871f5",
   "metadata": {},
   "outputs": [
    {
     "data": {
      "text/plain": [
       "Artist_Name\n",
       "John Coltrane                       8\n",
       "Miles Davis                         6\n",
       "Wiener Philharmoniker               6\n",
       "Berliner Philharmoniker             5\n",
       "Tim Hecker                          4\n",
       "Herbie Hancock                      4\n",
       "Duke Ellington                      3\n",
       "Takács Quartet                      2\n",
       "Columbia Symphony Orchestra         2\n",
       "Glenn Gould                         2\n",
       "Godspeed You! Black Emperor         2\n",
       "近藤浩治 [Koji Kondo]                   2\n",
       "Charles Mingus                      2\n",
       "John Fahey                          2\n",
       "Stars of the Lid                    2\n",
       "Lee Morgan                          2\n",
       "Pharoah Sanders                     2\n",
       "New York Philharmonic               2\n",
       "Steve Reich and Musicians           2\n",
       "Evgeni Koroliov                     2\n",
       "Nobuo Uematsu                       2\n",
       "Andrew Prahlow                      2\n",
       "Art Blakey & The Jazz Messengers    2\n",
       "C418                                2\n",
       "Wayne Shorter                       2\n",
       "Name: Artist_Name, dtype: int64"
      ]
     },
     "execution_count": 49,
     "metadata": {},
     "output_type": "execute_result"
    }
   ],
   "source": [
    "non_vocal_artist_count = rym_dataframe.loc[rym_dataframe['Language'] == 'None'].groupby(\"Artist_Name\")['Artist_Name'].count()\n",
    "sorted_non_vocal_artist_count = non_vocal_artist_count.sort_values(ascending=False)\n",
    "sorted_non_vocal_artist_count[:25]"
   ]
  },
  {
   "cell_type": "markdown",
   "id": "e670f0f3-cf24-4589-b6a4-5742a9d5b9dd",
   "metadata": {
    "jp-MarkdownHeadingCollapsed": true
   },
   "source": [
    "### How are women represented in the top 1000"
   ]
  },
  {
   "cell_type": "markdown",
   "id": "997dff48-9e69-4ce8-b07a-f89c775b39bc",
   "metadata": {},
   "source": [
    "Rate Your Music doesn't necessarily have a classification whether an artist is Male or Female but they do have a 'male vocalist' and 'female vocalist' descriptor which we will use to gain some insight into the discrepancy between Male and Female artist."
   ]
  },
  {
   "cell_type": "code",
   "execution_count": 52,
   "id": "064d550e-fff6-4cf9-bf0e-610c6102b254",
   "metadata": {},
   "outputs": [],
   "source": [
    "exploded_dataframe_for_descriptors = rym_dataframe.explode(\"Descriptors\")\n",
    "descriptors_count = exploded_dataframe_for_descriptors.groupby(\"Descriptors\")[\"Album_Title\"].count()"
   ]
  },
  {
   "cell_type": "code",
   "execution_count": 53,
   "id": "5ab23311-62bd-468f-8bcb-ade1d77b5f7b",
   "metadata": {},
   "outputs": [
    {
     "data": {
      "text/plain": [
       "Descriptors\n",
       "male vocalist      710\n",
       "female vocalist    182\n",
       "Name: Album_Title, dtype: int64"
      ]
     },
     "execution_count": 53,
     "metadata": {},
     "output_type": "execute_result"
    }
   ],
   "source": [
    "gender_count = descriptors_count[['male vocalist','female vocalist']]\n",
    "gender_count"
   ]
  },
  {
   "cell_type": "code",
   "execution_count": 54,
   "id": "06bacf33-83e5-4c40-a317-6b371a07c93e",
   "metadata": {},
   "outputs": [
    {
     "data": {
      "text/plain": [
       "<AxesSubplot:>"
      ]
     },
     "execution_count": 54,
     "metadata": {},
     "output_type": "execute_result"
    },
    {
     "data": {
      "image/png": "[encoded data removed]",
      "text/plain": [
       "<Figure size 720x504 with 1 Axes>"
      ]
     },
     "metadata": {
      "needs_background": "light"
     },
     "output_type": "display_data"
    }
   ],
   "source": [
    "fig6, ax6 = plt.subplots(figsize=(10, 7))\n",
    "gender_count.plot(ax=ax6,kind=\"bar\",xlabel=\"\")"
   ]
  },
  {
   "cell_type": "markdown",
   "id": "ba6f2485-502d-421b-bb4b-eeb14729dba1",
   "metadata": {},
   "source": [
    "There’s a significant discrepancy in representation between male and female vocalists. I expected this gap to be similar, if not wider, in addition non-vocal genres such as jazz and classical, are highly represented in the top 100 and tend to be more male-dominated than some vocal genres. In addition some artist can have both male and female vocals.\n",
    "\n",
    "Although the history of women in music has been ever-evolving, I wonder if the representation of female vocalists varies by year of release."
   ]
  },
  {
   "cell_type": "code",
   "execution_count": 56,
   "id": "0e1b32fc-dcf1-4bcd-abdf-d64a25ba46d5",
   "metadata": {},
   "outputs": [
    {
     "data": {
      "text/plain": [
       "Year of Release\n",
       "1971    6\n",
       "2019    6\n",
       "1997    6\n",
       "1999    6\n",
       "2020    5\n",
       "1975    5\n",
       "2002    5\n",
       "2018    5\n",
       "2003    5\n",
       "2004    5\n",
       "2000    4\n",
       "1985    4\n",
       "1998    4\n",
       "2006    4\n",
       "2008    4\n",
       "1996    4\n",
       "1995    4\n",
       "2010    4\n",
       "1994    4\n",
       "1993    4\n",
       "Name: Album_Title, dtype: int64"
      ]
     },
     "execution_count": 56,
     "metadata": {},
     "output_type": "execute_result"
    }
   ],
   "source": [
    "female_year_count = rym_dataframe.loc[\n",
    "    (rym_dataframe['Year of Release'] != 0) & \n",
    "    (rym_dataframe['Descriptors'].apply(lambda x: 'female vocalist' in x))\n",
    "].groupby('Year of Release')['Album_Title'].count()\n",
    "\n",
    "female_year_count.sort_values(ascending=False)[:20]"
   ]
  },
  {
   "cell_type": "code",
   "execution_count": 57,
   "id": "4f419a04-e1c9-49b1-a335-8c1c52bad276",
   "metadata": {},
   "outputs": [
    {
     "data": {
      "text/plain": [
       "<AxesSubplot:xlabel='Year of Release'>"
      ]
     },
     "execution_count": 57,
     "metadata": {},
     "output_type": "execute_result"
    },
    {
     "data": {
      "image/png": "[encoded data removed]",
      "text/plain": [
       "<Figure size 1296x504 with 1 Axes>"
      ]
     },
     "metadata": {
      "needs_background": "light"
     },
     "output_type": "display_data"
    }
   ],
   "source": [
    "fig7, ax7 = plt.subplots(figsize=(18, 7))\n",
    "female_year_count.plot(ax=ax7,kind='bar')"
   ]
  },
  {
   "cell_type": "markdown",
   "id": "8328d219-320d-4474-b064-05319132f1a1",
   "metadata": {},
   "source": [
    "The trend seems to be little different compared to the overall trend. The 70s doesn't seem to be as strong for female vocalist. The strongest decade seems to be the 90s and for female vocalist we don't see much of a drop off going into the 21st century like we do for the overall bar chart."
   ]
  },
  {
   "cell_type": "markdown",
   "id": "55a9d375-1971-4b69-a7d1-9254ca78943d",
   "metadata": {},
   "source": [
    "Now lets vizualize the discrepancy "
   ]
  },
  {
   "cell_type": "code",
   "execution_count": 60,
   "id": "014060f9-b455-4d73-bc99-cc3e2bc75846",
   "metadata": {},
   "outputs": [],
   "source": [
    "male_year_count = rym_dataframe.loc[\n",
    "    (rym_dataframe['Year of Release'] != 0) & \n",
    "    (rym_dataframe['Descriptors'].apply(lambda x: 'male vocalist' in x))\n",
    "].groupby('Year of Release')['Album_Title'].count()"
   ]
  },
  {
   "cell_type": "code",
   "execution_count": 61,
   "id": "6377f2f3-cb2f-4f93-9cf6-84f22f91dd08",
   "metadata": {},
   "outputs": [],
   "source": [
    "discrepancy = male_year_count - female_year_count"
   ]
  },
  {
   "cell_type": "code",
   "execution_count": 62,
   "id": "5a61d73d-f729-4ee5-bd70-7c066b9c8785",
   "metadata": {},
   "outputs": [
    {
     "data": {
      "text/plain": [
       "<AxesSubplot:xlabel='Year of Release'>"
      ]
     },
     "execution_count": 62,
     "metadata": {},
     "output_type": "execute_result"
    },
    {
     "data": {
      "image/png": "[encoded data removed]",
      "text/plain": [
       "<Figure size 1296x504 with 1 Axes>"
      ]
     },
     "metadata": {
      "needs_background": "light"
     },
     "output_type": "display_data"
    }
   ],
   "source": [
    "fig8, ax8 = plt.subplots(figsize=(18, 7))\n",
    "discrepancy.plot(ax=ax8,kind='bar')"
   ]
  },
  {
   "cell_type": "code",
   "execution_count": 63,
   "id": "2cd6bc22-517c-4875-aab2-ee2db7439800",
   "metadata": {},
   "outputs": [
    {
     "data": {
      "text/plain": [
       "Year of Release\n",
       "2008   -2.0\n",
       "Name: Album_Title, dtype: float64"
      ]
     },
     "execution_count": 63,
     "metadata": {},
     "output_type": "execute_result"
    }
   ],
   "source": [
    "discrepancy[discrepancy.index == 2008]"
   ]
  },
  {
   "cell_type": "markdown",
   "id": "8cac78c6-b0f4-4366-a95a-41744a60c3e6",
   "metadata": {},
   "source": [
    "We see the biggest discrepancy in the late 60s, 70s and 90s. The discrepancy between male and female vocalist starts to decrease in the 21 century. 2008 being the only year where there is more female representation than male."
   ]
  },
  {
   "cell_type": "markdown",
   "id": "eb0ce1a7-f0d6-48f9-8cfe-0dbea035afce",
   "metadata": {},
   "source": [
    "### What are the most occuring sub-genres from female vocalist"
   ]
  },
  {
   "cell_type": "code",
   "execution_count": 66,
   "id": "e5a2ccea-ccfa-423b-9759-f38bc2cd94c0",
   "metadata": {},
   "outputs": [
    {
     "data": {
      "text/plain": [
       "Genres\n",
       "Art Pop              28\n",
       "Singer-Songwriter    28\n",
       "Dream Pop            24\n",
       "Progressive Pop      19\n",
       "Neo-Psychedelia      17\n",
       "Post-Rock            17\n",
       "Indie Rock           16\n",
       "Ambient              16\n",
       "Experimental Rock    16\n",
       "Noise Rock           16\n",
       "Ambient Pop          13\n",
       "Alternative Rock     13\n",
       "Noise Pop            13\n",
       "Jazz Pop             13\n",
       "Gothic Rock          12\n",
       "Shoegaze             12\n",
       "Trip Hop             11\n",
       "Art Rock             11\n",
       "Indie Pop            10\n",
       "Psychedelic Pop      10\n",
       "Dance-Pop            10\n",
       "Chamber Pop          10\n",
       "Ethereal Wave        10\n",
       "Lounge                9\n",
       "Chamber Folk          9\n",
       "Glitch Pop            9\n",
       "Video Game Music      9\n",
       "Post-Punk             9\n",
       "Drone                 9\n",
       "Indietronica          8\n",
       "Name: Album_Title, dtype: int64"
      ]
     },
     "execution_count": 66,
     "metadata": {},
     "output_type": "execute_result"
    }
   ],
   "source": [
    "exploded_dataframe_for_genres_from_fv = rym_dataframe.loc[(rym_dataframe['Descriptors'].apply(lambda x: 'female vocalist' in x))].explode(\"Genres\")\n",
    "fv_genre_count = exploded_dataframe_for_genres_from_fv.groupby(\"Genres\")[\"Album_Title\"].count()\n",
    "sorted_fv_genre_count = fv_genre_count.sort_values(ascending=False)\n",
    "sorted_fv_genre_count[:30]\n"
   ]
  },
  {
   "cell_type": "code",
   "execution_count": 67,
   "id": "4cd15d46-9bf9-4ecd-82f7-dd77121d4abf",
   "metadata": {},
   "outputs": [
    {
     "data": {
      "text/plain": [
       "<AxesSubplot:xlabel='Sub-Genres'>"
      ]
     },
     "execution_count": 67,
     "metadata": {},
     "output_type": "execute_result"
    },
    {
     "data": {
      "image/png": "[encoded data removed]",
      "text/plain": [
       "<Figure size 1296x504 with 1 Axes>"
      ]
     },
     "metadata": {
      "needs_background": "light"
     },
     "output_type": "display_data"
    }
   ],
   "source": [
    "fig8, ax8 = plt.subplots(figsize=(18, 7))\n",
    "sorted_fv_genre_count[:30].plot(ax=ax8,kind=\"bar\",grid=True,xlabel='Sub-Genres')"
   ]
  },
  {
   "cell_type": "markdown",
   "id": "eb64400a-6b3d-454c-958d-8720bda945cc",
   "metadata": {},
   "source": [
    "In comparison to the overall bar graph this bar graph features a lot more pop music"
   ]
  },
  {
   "cell_type": "markdown",
   "id": "e7504df1-f89d-49cd-b3ac-ecf124beaaea",
   "metadata": {},
   "source": [
    "## What are the most popular artist with female vocals"
   ]
  },
  {
   "cell_type": "code",
   "execution_count": 95,
   "id": "2a3d6f80-ead7-4625-a1cb-b0338f2f99a8",
   "metadata": {},
   "outputs": [
    {
     "data": {
      "text/plain": [
       "Artist_Name\n",
       "Swans                  6\n",
       "Joni Mitchell          4\n",
       "Björk                  4\n",
       "Stereolab              4\n",
       "Kate Bush              4\n",
       "青葉市子 [Ichiko Aoba]     4\n",
       "Sonic Youth            4\n",
       "Joanna Newsom          3\n",
       "Yo La Tengo            3\n",
       "Sade                   3\n",
       "Fiona Apple            3\n",
       "PJ Harvey              3\n",
       "Nina Simone            3\n",
       "目黒将司 [Shoji Meguro]    3\n",
       "Portishead             3\n",
       "Name: Artist_Name, dtype: int64"
      ]
     },
     "execution_count": 95,
     "metadata": {},
     "output_type": "execute_result"
    }
   ],
   "source": [
    "artist_count = rym_dataframe.loc[(rym_dataframe['Descriptors'].apply(lambda x: 'female vocalist' in x))].groupby(\"Artist_Name\")['Artist_Name'].count()\n",
    "artist_count\n",
    "#artist_count = rym_dataframe\n",
    "sorted_artist_count = artist_count.sort_values(ascending=False)\n",
    "sorted_artist_count[:15]\n"
   ]
  },
  {
   "cell_type": "markdown",
   "id": "7bab12a9-d768-458e-8e33-736bdd9818f3",
   "metadata": {},
   "source": [
    "With the exception of Swans and Sonic Youth all these artist are feature virtual all female vocals. Most of these artist are part of the most popular female vocalist genres like Art Pop and Singer-Songwriter."
   ]
  },
  {
   "cell_type": "markdown",
   "id": "e54e2402-3292-4c48-8957-dad467329129",
   "metadata": {},
   "source": [
    "### What are the most occuring descriptros "
   ]
  },
  {
   "cell_type": "code",
   "execution_count": null,
   "id": "78a82adf-204a-48d4-90e5-4a8cef6e188d",
   "metadata": {},
   "outputs": [],
   "source": [
    "exploded_dataframe_for_descriptors = rym_dataframe.explode(\"Descriptors\")\n",
    "descriptors_count = exploded_dataframe_for_descriptors.groupby(\"Descriptors\")[\"Album_Title\"].count()\n",
    "sorted_descriptors_count = descriptors_count.sort_values(ascending=False)\n",
    "sorted_descriptors_count[:30]"
   ]
  },
  {
   "cell_type": "code",
   "execution_count": null,
   "id": "38f299d1-6d67-46ab-9739-09b0cd67e625",
   "metadata": {},
   "outputs": [],
   "source": [
    "fig5, ax5 = plt.subplots(figsize=(18, 7))\n",
    "sorted_descriptors_count[:30].plot(ax=ax5,kind=\"bar\",grid=True)"
   ]
  },
  {
   "cell_type": "markdown",
   "id": "6ac39e2e-ae39-4cd9-9bf8-6586f809a005",
   "metadata": {},
   "source": [
    "# Conclusion"
   ]
  },
  {
   "cell_type": "markdown",
   "id": "e2d1a97a-113a-44e6-9f8a-23547767b5af",
   "metadata": {},
   "source": [
    "This notebook gave us some insight on the preferences and biases of the Rate Your Music and answered questions i was curious about as a music fan and a regular user of the site. If we had a more robust RYM API we might be able to do so much more, but for now i am content with the insights shown here."
   ]
  },
  {
   "cell_type": "markdown",
   "id": "7e4de4e0-b3a6-45af-932e-fc5c366379e5",
   "metadata": {},
   "source": [
    "End of notebook."
   ]
  },
  {
   "cell_type": "markdown",
   "id": "ab869565-24dc-46e6-8681-fc24028af223",
   "metadata": {},
   "source": []
  },
  {
   "cell_type": "code",
   "execution_count": null,
   "id": "0b4a4e53-0e5d-4d70-bddb-c61bb7607482",
   "metadata": {},
   "outputs": [],
   "source": []
  }
 ],
 "metadata": {
  "kernelspec": {
   "display_name": "Python [conda env:anaconda3]",
   "language": "python",
   "name": "conda-env-anaconda3-py"
  },
  "language_info": {
   "codemirror_mode": {
    "name": "ipython",
    "version": 3
   },
   "file_extension": ".py",
   "mimetype": "text/x-python",
   "name": "python",
   "nbconvert_exporter": "python",
   "pygments_lexer": "ipython3",
   "version": "3.8.8"
  }
 },
 "nbformat": 4,
 "nbformat_minor": 5
}
